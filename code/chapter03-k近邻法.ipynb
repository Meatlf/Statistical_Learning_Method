{
 "cells": [
  {
   "cell_type": "code",
   "execution_count": 4,
   "metadata": {},
   "outputs": [],
   "source": [
    "import numpy as np\n",
    "from sklearn import datasets"
   ]
  },
  {
   "cell_type": "markdown",
   "metadata": {},
   "source": [
    "**Q**:sklearn中Iris数据集是什么样的?  \n",
    "**A**:Iris有3种分类,每一类分别有50个样本,合计150个样本."
   ]
  },
  {
   "cell_type": "code",
   "execution_count": 13,
   "metadata": {},
   "outputs": [
    {
     "name": "stdout",
     "output_type": "stream",
     "text": [
      "[4.9 3.  1.4 0.2] [5.7 2.6 3.5 1. ] [5.9 3.  5.1 1.8]\n",
      "0 1 2\n"
     ]
    }
   ],
   "source": [
    "iris = datasets.load_iris()\n",
    "iris_data = iris.data\n",
    "iris_labels = iris.target\n",
    "print(iris_data[1], iris_data[79], iris_data[149])\n",
    "print(iris_labels[1], iris_labels[79], iris_labels[149])"
   ]
  },
  {
   "cell_type": "code",
   "execution_count": 17,
   "metadata": {},
   "outputs": [
    {
     "name": "stdout",
     "output_type": "stream",
     "text": [
      "[ 73  18 118  78  76  31  64 141  68  82 110  12  36   9  19  56 104  69\n",
      "  55 132  29 127  26 128 131 145 108 143  45  30  22  15  65  11  42 146\n",
      "  51  27   4  32 142  85  86  16  10  81 133 137  75 109  96 105  66   0\n",
      " 122  67  28  40  44  60 123  24  25  23  94  39  95 117  47  97 113  33\n",
      " 138 101  62  84 148  53   5  93 111  49  35  80  77  34 114   7  43  70\n",
      "  98 120  83 134 135  89   8  13 119 125   3  17  38  72 136   6 112 100\n",
      "   2  63  54 126  50 115  46 139  61 147  79  59  91  41  58  90  48  88\n",
      " 107 124  21  57 144 129  37 140   1  52 130 103  99 116  87  74 121 149\n",
      "  20  71 106  14  92 102]\n",
      "[[6.1 2.8 4.7 1.2]\n",
      " [5.7 3.8 1.7 0.3]\n",
      " [7.7 2.6 6.9 2.3]\n",
      " [6.  2.9 4.5 1.5]] [1 0 2 1]\n",
      "[[5.7 2.8 4.1 1.3]\n",
      " [6.5 3.  5.5 1.8]\n",
      " [6.3 2.3 4.4 1.3]\n",
      " [6.4 2.9 4.3 1.3]] [1 2 1 1]\n"
     ]
    }
   ],
   "source": [
    "np.random.seed(42)\n",
    "indices = np.random.permutation(len(iris_data))\n",
    "print(indices)\n",
    "n_training_samples = 12\n",
    "learnset_data = iris_data[indices[:-n_training_samples]]\n",
    "learnset_labels = iris_labels[indices[:-n_training_samples]]\n",
    "testset_data = iris_data[indices[-n_training_samples:]]\n",
    "testset_labels = iris_labels[indices[-n_training_samples:]]\n",
    "print(learnset_data[:4], learnset_labels[:4])\n",
    "print(testset_data[:4], testset_labels[:4])"
   ]
  },
  {
   "cell_type": "code",
   "execution_count": null,
   "metadata": {},
   "outputs": [],
   "source": []
  }
 ],
 "metadata": {
  "kernelspec": {
   "display_name": "Python 3.7.4 64-bit ('base': conda)",
   "language": "python",
   "name": "python37464bitbasecondacb3ec4d305c44fe887804b43a376a3a9"
  },
  "language_info": {
   "codemirror_mode": {
    "name": "ipython",
    "version": 3
   },
   "file_extension": ".py",
   "mimetype": "text/x-python",
   "name": "python",
   "nbconvert_exporter": "python",
   "pygments_lexer": "ipython3",
   "version": "3.7.4"
  }
 },
 "nbformat": 4,
 "nbformat_minor": 2
}
